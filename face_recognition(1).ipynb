{
 "cells": [
  {
   "cell_type": "code",
   "execution_count": 1,
   "metadata": {},
   "outputs": [],
   "source": [
    "import cv2\n",
    "import face_recognition"
   ]
  },
  {
   "cell_type": "code",
   "execution_count": 2,
   "metadata": {},
   "outputs": [
    {
     "name": "stdout",
     "output_type": "stream",
     "text": [
      "4.5.0\n",
      "1.2.3\n"
     ]
    }
   ],
   "source": [
    "print(cv2.__version__)\n",
    "print(face_recognition.__version__)"
   ]
  },
  {
   "cell_type": "code",
   "execution_count": 3,
   "metadata": {},
   "outputs": [],
   "source": [
    "image1 = cv2.imread('C:/Users/ASUS/Desktop/face recognition/images/IMG-20190207-WA0006.jpg')\n",
    "cv2.imshow('Image',image1)\n",
    "cv2.waitKey(0)\n",
    "cv2.destroyAllWindows()"
   ]
  },
  {
   "cell_type": "code",
   "execution_count": 4,
   "metadata": {},
   "outputs": [
    {
     "name": "stdout",
     "output_type": "stream",
     "text": [
      "There are 7 number of people\n",
      "[(205, 909, 267, 847), (129, 266, 191, 204), (153, 400, 205, 348), (170, 626, 232, 563), (163, 1061, 225, 999), (274, 494, 336, 432), (211, 764, 274, 702)]\n"
     ]
    }
   ],
   "source": [
    "#To detect no. of faces\n",
    "number_of_faces = face_recognition.face_locations(image1,model='hog')\n",
    "print(\"There are {} number of people\".format(len(number_of_faces)))\n",
    "print(number_of_faces)"
   ]
  },
  {
   "cell_type": "code",
   "execution_count": 5,
   "metadata": {},
   "outputs": [
    {
     "name": "stdout",
     "output_type": "stream",
     "text": [
      "found face  1 at top:205,right:909,bottom:267,left:847\n",
      "found face  2 at top:129,right:266,bottom:191,left:204\n",
      "found face  3 at top:153,right:400,bottom:205,left:348\n",
      "found face  4 at top:170,right:626,bottom:232,left:563\n",
      "found face  5 at top:163,right:1061,bottom:225,left:999\n",
      "found face  6 at top:274,right:494,bottom:336,left:432\n",
      "found face  7 at top:211,right:764,bottom:274,left:702\n"
     ]
    }
   ],
   "source": [
    "for index,current_face_location in enumerate(number_of_faces):\n",
    "    top_pos,right_pos,bottom_pos,left_pos=current_face_location\n",
    "    print(\"found face  {} at top:{},right:{},bottom:{},left:{}\".format(index+1,top_pos,right_pos,bottom_pos,left_pos))\n",
    "    current_face_image = image1[top_pos:bottom_pos, left_pos:right_pos]\n",
    "    cv2.imshow(\"Face no \"+str(index+1), current_face_image)\n",
    "cv2.waitKey(0)\n",
    "cv2.destroyAllWindows()\n"
   ]
  },
  {
   "cell_type": "code",
   "execution_count": null,
   "metadata": {},
   "outputs": [],
   "source": []
  }
 ],
 "metadata": {
  "kernelspec": {
   "display_name": "Python 3",
   "language": "python",
   "name": "python3"
  },
  "language_info": {
   "codemirror_mode": {
    "name": "ipython",
    "version": 3
   },
   "file_extension": ".py",
   "mimetype": "text/x-python",
   "name": "python",
   "nbconvert_exporter": "python",
   "pygments_lexer": "ipython3",
   "version": "3.8.5"
  }
 },
 "nbformat": 4,
 "nbformat_minor": 4
}
