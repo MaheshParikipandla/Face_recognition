{
 "cells": [
  {
   "cell_type": "code",
   "execution_count": 7,
   "metadata": {},
   "outputs": [],
   "source": [
    "import cv2\n",
    "import face_recognition\n",
    "import numpy as np\n",
    "from keras.preprocessing import image\n",
    "from keras.models import model_from_json"
   ]
  },
  {
   "cell_type": "code",
   "execution_count": 8,
   "metadata": {},
   "outputs": [
    {
     "name": "stdout",
     "output_type": "stream",
     "text": [
      "There are 13 no. of peoples\n",
      "Found face 1 at top:251 , right:1172 , bottom:303 , left:1120\n",
      "2\n",
      "Found face 2 at top:353 , right:967 , bottom:396 , left:923\n",
      "6\n",
      "Found face 3 at top:271 , right:919 , bottom:314 , left:876\n",
      "6\n",
      "Found face 4 at top:252 , right:1039 , bottom:295 , left:995\n",
      "6\n",
      "Found face 5 at top:238 , right:525 , bottom:281 , left:482\n",
      "6\n",
      "Found face 6 at top:252 , right:712 , bottom:295 , left:669\n",
      "6\n",
      "Found face 7 at top:276 , right:813 , bottom:319 , left:770\n",
      "6\n",
      "Found face 8 at top:228 , right:400 , bottom:280 , left:348\n",
      "0\n",
      "Found face 9 at top:199 , right:285 , bottom:251 , left:233\n",
      "3\n",
      "Found face 10 at top:343 , right:472 , bottom:386 , left:429\n",
      "3\n",
      "Found face 11 at top:225 , right:204 , bottom:288 , left:142\n",
      "3\n",
      "Found face 12 at top:338 , right:602 , bottom:382 , left:559\n",
      "6\n",
      "Found face 13 at top:382 , right:376 , bottom:425 , left:333\n",
      "0\n"
     ]
    }
   ],
   "source": [
    "face_exp_model = model_from_json(open(\"C:/Users/ASUS/Desktop/face recognition/datasets/facial_expression_model_structure.json\",\n",
    "                                      \"r\").read())\n",
    "face_exp_model.load_weights(\"C:/Users/ASUS/Desktop/face recognition/datasets/facial_expression_model_weights.h5\")\n",
    "emotion_label = ('angry','disgust','fear','happy','sad','surprise','neutral')\n",
    "\n",
    "image1 = cv2.imread('C:/Users/ASUS/Desktop/face recognition/images/IMG-20190207-WA0007.jpg')\n",
    "number_of_faces = face_recognition.face_locations(image1, model='hog')\n",
    "print(\"There are {} no. of peoples\".format(len(number_of_faces)))\n",
    "\n",
    "for index, current_face_location in enumerate(number_of_faces):\n",
    "    top_pos, right_pos, bottom_pos, left_pos = current_face_location\n",
    "    print(\"Found face {} at top:{} , right:{} , bottom:{} , left:{}\".format(index+1, top_pos, right_pos,\n",
    "                                                                        bottom_pos, left_pos))\n",
    "    cv2.rectangle(image1, (left_pos,top_pos), (right_pos,bottom_pos), (0,0,255), 2)\n",
    "    \n",
    "    current_face_image = image1[top_pos:bottom_pos, left_pos:right_pos]\n",
    "    current_face_image = cv2.cvtColor(current_face_image, cv2.COLOR_BGR2GRAY)\n",
    "    current_face_image = cv2.resize(current_face_image, (48,48))\n",
    "    \n",
    "    input_image = image.img_to_array(current_face_image)\n",
    "    input_image = np.expand_dims(input_image, axis=0)\n",
    "    input_image = input_image/255\n",
    "    expression = face_exp_model.predict(input_image)\n",
    "    max_index = np.argmax(expression[0])\n",
    "    print(max_index)\n",
    "    emotion_label1 = emotion_label[max_index]\n",
    "\n",
    "    font = cv2.FONT_HERSHEY_DUPLEX\n",
    "    cv2.putText(image1, emotion_label1, (left_pos,bottom_pos), font, 0.5, (255,255,255), 1)\n",
    "cv2.imshow(\"Image\", image1)\n",
    "cv2.waitKey(0)\n",
    "cv2.destroyAllWindows()\n"
   ]
  },
  {
   "cell_type": "code",
   "execution_count": null,
   "metadata": {},
   "outputs": [],
   "source": []
  }
 ],
 "metadata": {
  "kernelspec": {
   "display_name": "Python 3",
   "language": "python",
   "name": "python3"
  },
  "language_info": {
   "codemirror_mode": {
    "name": "ipython",
    "version": 3
   },
   "file_extension": ".py",
   "mimetype": "text/x-python",
   "name": "python",
   "nbconvert_exporter": "python",
   "pygments_lexer": "ipython3",
   "version": "3.8.5"
  }
 },
 "nbformat": 4,
 "nbformat_minor": 4
}
