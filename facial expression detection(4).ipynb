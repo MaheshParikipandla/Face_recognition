{
 "cells": [
  {
   "cell_type": "code",
   "execution_count": 2,
   "metadata": {},
   "outputs": [],
   "source": [
    "import cv2\n",
    "import face_recognition\n",
    "import numpy as np\n",
    "from keras.preprocessing import image\n",
    "from keras.models import model_from_json"
   ]
  },
  {
   "cell_type": "code",
   "execution_count": 5,
   "metadata": {},
   "outputs": [],
   "source": [
    "face_exp_model=model_from_json(open('C:/Users/ASUS/Desktop/face recognition/datasets/facial_expression_model_structure.json',\"r\").read())\n",
    "face_exp_model.load_weights('C:/Users/ASUS/Desktop/face recognition/datasets/facial_expression_model_weights.h5')\n",
    "emotion_label=('angry','disgust','fear','happy','sad','surprise','neutral')\n",
    "webcam_video=cv2.VideoCapture(0)\n",
    "number_of_faces=[]\n",
    "while True:\n",
    "   #get the current frame of video stream as an image\n",
    "    ret,current_frame=webcam_video.read()\n",
    "    #resize the current frame to 1/4 to process faster\n",
    "    resize_frame=cv2.resize(current_frame,(0,0),fx=0.25,fy=0.25)\n",
    "    number_of_faces=face_recognition.face_locations(resize_frame,number_of_times_to_upsample=2,model='hog')\n",
    "    for index,current_face_location in enumerate(number_of_faces):\n",
    "        top_pos, right_pos, bottom_pos, left_pos = current_face_location\n",
    "        top_pos = top_pos*4\n",
    "        right_pos = right_pos*4\n",
    "        bottom_pos = bottom_pos*4\n",
    "        left_pos = left_pos*4\n",
    "        print(\"Found face {} at top:{} , right:{} , bottom:{} , left:{}\".format(index+1, top_pos, right_pos,\n",
    "                                                                        bottom_pos, left_pos))\n",
    "        cv2.rectangle(current_frame,(left_pos,top_pos),(right_pos,bottom_pos),(0,255,255),2)\n",
    "        current_face_image = current_frame[top_pos:bottom_pos, left_pos:right_pos]\n",
    "        #preprocess the input image, convert into grayscale image\n",
    "        current_face_image = cv2.cvtColor(current_face_image,cv2.COLOR_BGR2GRAY)\n",
    "        #resize to 48*48 px size\n",
    "        current_face_image = cv2.resize(current_face_image, (48,48))\n",
    "        #convert the PIL image into numpy array\n",
    "        input_image = image.img_to_array(current_face_image)\n",
    "        #convert into 1d array\n",
    "        input_image = np.expand_dims(input_image, axis=0)\n",
    "        input_image = input_image/255\n",
    "        \n",
    "        expression = face_exp_model.predict(input_image)\n",
    "        max_index = np.argmax(expression[0])\n",
    "        print(max_index)\n",
    "        emotion_label1 = emotion_label[max_index]\n",
    "        \n",
    "        font = cv2.FONT_HERSHEY_DUPLEX\n",
    "        cv2.putText(current_frame, emotion_label1, (left_pos,bottom_pos), font, 1, (255,255,255), 1)\n",
    "    cv2.imshow(\"Webcam Video\", current_frame)\n",
    "    if cv2.waitKey(1) & 0xFF == ord('q'):\n",
    "        break\n",
    "\n",
    "webcam_video.release()\n",
    "cv2.destroyAllWindows()\n",
    "        \n",
    "        \n",
    "    \n"
   ]
  },
  {
   "cell_type": "code",
   "execution_count": null,
   "metadata": {},
   "outputs": [],
   "source": []
  }
 ],
 "metadata": {
  "kernelspec": {
   "display_name": "Python 3",
   "language": "python",
   "name": "python3"
  },
  "language_info": {
   "codemirror_mode": {
    "name": "ipython",
    "version": 3
   },
   "file_extension": ".py",
   "mimetype": "text/x-python",
   "name": "python",
   "nbconvert_exporter": "python",
   "pygments_lexer": "ipython3",
   "version": "3.8.5"
  }
 },
 "nbformat": 4,
 "nbformat_minor": 4
}
