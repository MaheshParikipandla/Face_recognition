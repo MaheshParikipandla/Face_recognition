{
 "cells": [
  {
   "cell_type": "code",
   "execution_count": 1,
   "metadata": {},
   "outputs": [],
   "source": [
    "import cv2\n",
    "import face_recognition"
   ]
  },
  {
   "cell_type": "code",
   "execution_count": 2,
   "metadata": {},
   "outputs": [
    {
     "name": "stdout",
     "output_type": "stream",
     "text": [
      "found face  1 at top:136,right:404,bottom:208,left:332\n",
      "found face  2 at top:120,right:268,bottom:192,left:196\n",
      "found face  3 at top:168,right:620,bottom:240,left:548\n",
      "found face  4 at top:200,right:764,bottom:272,left:692\n",
      "found face  5 at top:200,right:908,bottom:272,left:836\n",
      "found face  6 at top:160,right:1068,bottom:232,left:996\n",
      "found face  7 at top:264,right:492,bottom:336,left:420\n"
     ]
    },
    {
     "ename": "error",
     "evalue": "OpenCV(4.5.0) ..\\modules\\imgproc\\src\\resize.cpp:4051: error: (-215:Assertion failed) !ssize.empty() in function 'cv::resize'\n",
     "output_type": "error",
     "traceback": [
      "\u001b[1;31m---------------------------------------------------------------------------\u001b[0m",
      "\u001b[1;31merror\u001b[0m                                     Traceback (most recent call last)",
      "\u001b[1;32m<ipython-input-2-e86713d12c61>\u001b[0m in \u001b[0;36m<module>\u001b[1;34m\u001b[0m\n\u001b[0;32m      7\u001b[0m     \u001b[0mret\u001b[0m\u001b[1;33m,\u001b[0m\u001b[0mcurrent_frame\u001b[0m\u001b[1;33m=\u001b[0m\u001b[0mwebcam_video\u001b[0m\u001b[1;33m.\u001b[0m\u001b[0mread\u001b[0m\u001b[1;33m(\u001b[0m\u001b[1;33m)\u001b[0m\u001b[1;33m\u001b[0m\u001b[1;33m\u001b[0m\u001b[0m\n\u001b[0;32m      8\u001b[0m     \u001b[1;31m#to resize the frame to 1/4 tp process faster\u001b[0m\u001b[1;33m\u001b[0m\u001b[1;33m\u001b[0m\u001b[1;33m\u001b[0m\u001b[0m\n\u001b[1;32m----> 9\u001b[1;33m     \u001b[0mresize_frame\u001b[0m\u001b[1;33m=\u001b[0m\u001b[0mcv2\u001b[0m\u001b[1;33m.\u001b[0m\u001b[0mresize\u001b[0m\u001b[1;33m(\u001b[0m\u001b[0mcurrent_frame\u001b[0m\u001b[1;33m,\u001b[0m\u001b[1;33m(\u001b[0m\u001b[1;36m0\u001b[0m\u001b[1;33m,\u001b[0m\u001b[1;36m0\u001b[0m\u001b[1;33m)\u001b[0m\u001b[1;33m,\u001b[0m\u001b[0mfx\u001b[0m\u001b[1;33m=\u001b[0m\u001b[1;36m0.25\u001b[0m\u001b[1;33m,\u001b[0m\u001b[0mfy\u001b[0m\u001b[1;33m=\u001b[0m\u001b[1;36m0.25\u001b[0m\u001b[1;33m)\u001b[0m\u001b[1;33m\u001b[0m\u001b[1;33m\u001b[0m\u001b[0m\n\u001b[0m\u001b[0;32m     10\u001b[0m     \u001b[0mnumber_of_faces\u001b[0m\u001b[1;33m=\u001b[0m\u001b[0mface_recognition\u001b[0m\u001b[1;33m.\u001b[0m\u001b[0mface_locations\u001b[0m\u001b[1;33m(\u001b[0m\u001b[0mresize_frame\u001b[0m\u001b[1;33m,\u001b[0m\u001b[0mnumber_of_times_to_upsample\u001b[0m\u001b[1;33m=\u001b[0m\u001b[1;36m2\u001b[0m\u001b[1;33m,\u001b[0m\u001b[0mmodel\u001b[0m\u001b[1;33m=\u001b[0m\u001b[1;34m'hog'\u001b[0m\u001b[1;33m)\u001b[0m\u001b[1;33m\u001b[0m\u001b[1;33m\u001b[0m\u001b[0m\n\u001b[0;32m     11\u001b[0m     \u001b[1;32mfor\u001b[0m \u001b[0mindex\u001b[0m\u001b[1;33m,\u001b[0m\u001b[0mcurrent_face_location\u001b[0m \u001b[1;32min\u001b[0m \u001b[0menumerate\u001b[0m\u001b[1;33m(\u001b[0m\u001b[0mnumber_of_faces\u001b[0m\u001b[1;33m)\u001b[0m\u001b[1;33m:\u001b[0m\u001b[1;33m\u001b[0m\u001b[1;33m\u001b[0m\u001b[0m\n",
      "\u001b[1;31merror\u001b[0m: OpenCV(4.5.0) ..\\modules\\imgproc\\src\\resize.cpp:4051: error: (-215:Assertion failed) !ssize.empty() in function 'cv::resize'\n"
     ]
    }
   ],
   "source": [
    "webcam_video=cv2.VideoCapture('C:/Users/ASUS/Desktop/face recognition/images/IMG-20190207-WA0006.jpg')\n",
    "#initialize the array variable for storing the faces\n",
    "number_of_faces=[]\n",
    "#looping through every frame in the video\n",
    "while True:\n",
    "    #to get the current frame of video stream as an image\n",
    "    ret,current_frame=webcam_video.read()\n",
    "    #to resize the frame to 1/4 tp process faster\n",
    "    resize_frame=cv2.resize(current_frame,(0,0),fx=0.25,fy=0.25)\n",
    "    number_of_faces=face_recognition.face_locations(resize_frame,number_of_times_to_upsample=2,model='hog')\n",
    "    for index,current_face_location in enumerate(number_of_faces):\n",
    "        top_pos,right_pos,bottom_pos,left_pos=current_face_location\n",
    "        top_pos=top_pos*4\n",
    "        right_pos = right_pos*4\n",
    "        bottom_pos = bottom_pos*4\n",
    "        left_pos = left_pos*4\n",
    "        print(\"found face  {} at top:{},right:{},bottom:{},left:{}\".format(index+1,top_pos,right_pos,bottom_pos,left_pos))\n",
    "        cv2.rectangle(current_frame, (left_pos,top_pos), (right_pos,bottom_pos), (0,0,255), 2)\n",
    "    cv2.imshow(\"Webcam Video\", current_frame)\n",
    "    if cv2.waitKey(1) & 0xFF == ord('q'):\n",
    "        break\n",
    "\n",
    "webcam_video.release()\n",
    "cv2.destroyAllWindows()"
   ]
  },
  {
   "cell_type": "code",
   "execution_count": null,
   "metadata": {},
   "outputs": [],
   "source": []
  }
 ],
 "metadata": {
  "kernelspec": {
   "display_name": "Python 3",
   "language": "python",
   "name": "python3"
  },
  "language_info": {
   "codemirror_mode": {
    "name": "ipython",
    "version": 3
   },
   "file_extension": ".py",
   "mimetype": "text/x-python",
   "name": "python",
   "nbconvert_exporter": "python",
   "pygments_lexer": "ipython3",
   "version": "3.8.5"
  }
 },
 "nbformat": 4,
 "nbformat_minor": 4
}
